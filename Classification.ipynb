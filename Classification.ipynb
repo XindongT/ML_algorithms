{
 "cells": [
  {
   "cell_type": "code",
   "execution_count": 23,
   "metadata": {
    "collapsed": true,
    "ExecuteTime": {
     "end_time": "2023-06-17T17:12:17.592168700Z",
     "start_time": "2023-06-17T17:12:17.584284900Z"
    }
   },
   "outputs": [],
   "source": [
    "import numpy as np\n",
    "import matplotlib.pyplot as plt"
   ]
  },
  {
   "cell_type": "markdown",
   "source": [
    "We will do classification in 2D"
   ],
   "metadata": {
    "collapsed": false
   }
  },
  {
   "cell_type": "code",
   "execution_count": 30,
   "outputs": [],
   "source": [
    "#generate data\n",
    "mean1 = [10,10]\n",
    "mean2 = [5,5]\n",
    "\n",
    "cov1 = [[1,-0.3],[-0.3,1]]\n",
    "cov2 = [[1,-0.3],[-0.3,1]]\n",
    "\n",
    "x1 = np.random.multivariate_normal(mean1, cov1,size = 100)\n",
    "x2 = np.random.multivariate_normal(mean2, cov1,size = 100)\n",
    "\n",
    "y = np.append(np.zeros(100),np.ones(100))\n",
    "x = np.append(x2,x1)"
   ],
   "metadata": {
    "collapsed": false,
    "ExecuteTime": {
     "end_time": "2023-06-17T17:14:03.658076Z",
     "start_time": "2023-06-17T17:14:03.652589700Z"
    }
   }
  },
  {
   "cell_type": "code",
   "execution_count": 31,
   "outputs": [
    {
     "data": {
      "text/plain": "<Figure size 640x480 with 1 Axes>",
      "image/png": "[encoded data removed]"
     },
     "metadata": {},
     "output_type": "display_data"
    }
   ],
   "source": [
    "#plot data\n",
    "plt.scatter(x1[:,0],x1[:,1],label = 1)\n",
    "plt.scatter(x2[:,0],x2[:,1],label = 0)\n",
    "plt.legend()\n",
    "plt.show()"
   ],
   "metadata": {
    "collapsed": false,
    "ExecuteTime": {
     "end_time": "2023-06-17T17:14:04.035207500Z",
     "start_time": "2023-06-17T17:14:03.977409900Z"
    }
   }
  },
  {
   "cell_type": "code",
   "execution_count": null,
   "outputs": [],
   "source": [
    "#Use logistic function as out model\n",
    "def Model(x,w,b):\n",
    "    z = w * x + b\n",
    "    return 1/(1 + np.exp(-z))"
   ],
   "metadata": {
    "collapsed": false
   }
  },
  {
   "cell_type": "markdown",
   "source": [
    "The Log likelihood function for this problem is $l(w) = \\sum^n_{i=1}y\\log(h(w;x)) + (1-y)\\log(1-h(w;x))$ where h is the logistic function\n",
    "So maximizing $l(w)$ is equivalent to minimizing $-l(w)$ or we can use gradient ascent which is $w = w + lr*\\frac{\\partial l(w)}{\\partial w}$ to find $w$ that maximize $l(w)$"
   ],
   "metadata": {
    "collapsed": false
   }
  },
  {
   "cell_type": "code",
   "execution_count": null,
   "outputs": [],
   "source": [
    "def Loss(x,w,b,y):\n",
    "    l = y*np.log(Model(x,w,b)) + (1-y) * np.log(1 - Model(x,w,b))\n",
    "    return np.sum(l)\n",
    "\n",
    "def dModel_w(x,w,b):\n",
    "    return Model(x,w,b) * (1-Model(x,w,b)) * x\n",
    "\n",
    "def dModel_b(x,w,b):\n",
    "    return Model(x,w,b) * (1-Model(x,w,b))\n",
    "\n",
    "def dLoss_w(x,w,b,y):\n",
    "    pass\n",
    "\n"
   ],
   "metadata": {
    "collapsed": false
   }
  },
  {
   "cell_type": "code",
   "execution_count": 32,
   "outputs": [],
   "source": [
    "#multiclass classification\n"
   ],
   "metadata": {
    "collapsed": false,
    "ExecuteTime": {
     "end_time": "2023-06-17T17:24:07.402083500Z",
     "start_time": "2023-06-17T17:24:07.398095500Z"
    }
   }
  },
  {
   "cell_type": "code",
   "execution_count": null,
   "outputs": [],
   "source": [],
   "metadata": {
    "collapsed": false
   }
  }
 ],
 "metadata": {
  "kernelspec": {
   "display_name": "Python 3",
   "language": "python",
   "name": "python3"
  },
  "language_info": {
   "codemirror_mode": {
    "name": "ipython",
    "version": 2
   },
   "file_extension": ".py",
   "mimetype": "text/x-python",
   "name": "python",
   "nbconvert_exporter": "python",
   "pygments_lexer": "ipython2",
   "version": "2.7.6"
  }
 },
 "nbformat": 4,
 "nbformat_minor": 0
}
