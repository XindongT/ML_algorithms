{
 "cells": [
  {
   "cell_type": "code",
   "execution_count": 7,
   "metadata": {
    "collapsed": true,
    "ExecuteTime": {
     "end_time": "2023-06-24T18:50:33.244691400Z",
     "start_time": "2023-06-24T18:50:33.241184100Z"
    }
   },
   "outputs": [],
   "source": [
    "import numpy as np"
   ]
  },
  {
   "cell_type": "code",
   "execution_count": 156,
   "outputs": [],
   "source": [
    "class KNN():\n",
    "    def __init__(self,data_set,label,k):\n",
    "        self.dataset = np.array(data_set)\n",
    "        self.n_samples = self.dataset.shape[0]\n",
    "        self.dim = self.dataset.shape[1:]\n",
    "        self.label = np.array(label).reshape(-1,)\n",
    "        self.k = k\n",
    "\n",
    "    def classify(self, test_point):\n",
    "        test_point = np.array(test_point)\n",
    "        if self.dim != test_point.shape:\n",
    "            print('The dim does not match')\n",
    "            return 0\n",
    "        distance = np.linalg.norm(self.dataset - test_point,axis=1)\n",
    "        nearest_label = []\n",
    "\n",
    "        for i in range(self.k):\n",
    "            label_index = np.where(distance == distance.min())[0]\n",
    "            for j in label_index:\n",
    "                nearest_label.append(self.label[j])\n",
    "                np.delete(distance,int(distance[j]))\n",
    "\n",
    "        label_set = np.array(nearest_label).reshape(-1,)\n",
    "        return np.bincount(label_set).argmax()\n"
   ],
   "metadata": {
    "collapsed": false,
    "ExecuteTime": {
     "end_time": "2023-06-24T19:09:16.826591600Z",
     "start_time": "2023-06-24T19:09:16.824648200Z"
    }
   }
  },
  {
   "cell_type": "code",
   "execution_count": 157,
   "outputs": [],
   "source": [
    "#test in 2D\n",
    "x = np.array([[0, 1],[-1,1],[2,1],[0,0],[2,0]],dtype=np.float32)\n",
    "label = np.array([0,0,1,0,1])\n",
    "#data on the left side of x = 1 is 0 and right to x = 1 is 1"
   ],
   "metadata": {
    "collapsed": false,
    "ExecuteTime": {
     "end_time": "2023-06-24T19:09:18.163077600Z",
     "start_time": "2023-06-24T19:09:18.158803900Z"
    }
   }
  },
  {
   "cell_type": "code",
   "execution_count": 158,
   "outputs": [],
   "source": [
    "k = KNN(x,label,2)"
   ],
   "metadata": {
    "collapsed": false,
    "ExecuteTime": {
     "end_time": "2023-06-24T19:09:19.216282Z",
     "start_time": "2023-06-24T19:09:19.215279500Z"
    }
   }
  },
  {
   "cell_type": "code",
   "execution_count": 159,
   "outputs": [
    {
     "data": {
      "text/plain": "0"
     },
     "execution_count": 159,
     "metadata": {},
     "output_type": "execute_result"
    }
   ],
   "source": [
    "k.classify([1,0])"
   ],
   "metadata": {
    "collapsed": false,
    "ExecuteTime": {
     "end_time": "2023-06-24T19:09:19.414310800Z",
     "start_time": "2023-06-24T19:09:19.412802700Z"
    }
   }
  }
 ],
 "metadata": {
  "kernelspec": {
   "display_name": "Python 3",
   "language": "python",
   "name": "python3"
  },
  "language_info": {
   "codemirror_mode": {
    "name": "ipython",
    "version": 2
   },
   "file_extension": ".py",
   "mimetype": "text/x-python",
   "name": "python",
   "nbconvert_exporter": "python",
   "pygments_lexer": "ipython2",
   "version": "2.7.6"
  }
 },
 "nbformat": 4,
 "nbformat_minor": 0
}
