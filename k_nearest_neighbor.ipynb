{
 "cells": [
  {
   "cell_type": "code",
   "execution_count": 1,
   "metadata": {
    "collapsed": true,
    "ExecuteTime": {
     "end_time": "2023-06-17T02:33:50.529077200Z",
     "start_time": "2023-06-17T02:33:50.482215400Z"
    }
   },
   "outputs": [],
   "source": [
    "import numpy as np"
   ]
  },
  {
   "cell_type": "code",
   "execution_count": null,
   "outputs": [],
   "source": [
    "class KNN():\n",
    "    def __int__(self,data_set,label,k):\n",
    "        self.dataset = np.array(data_set)\n",
    "        self.label = np.array(label)\n",
    "        self.k = k\n",
    "    def __call__(self, test_point,*args, **kwargs):\n",
    "        test_point = np.array(test_point)\n",
    "\n",
    "        if test_point.shape[-1] != self.dataset.shape[-1]:\n",
    "            print('The dim does not match')\n",
    "            return None\n",
    "\n",
    "        distance = np.linalg.norm(self.dataset - test_point)\n",
    "        label_set = []\n",
    "\n",
    "        for i in range(self.k):\n",
    "            label_index = np.where(distance == distance.min())[0]\n",
    "            label_set.append(self.label[label_index])\n",
    "            np.delete(distance[label_index])\n",
    "\n",
    "        label_set = np.array(label_set)\n",
    "        return np.bincount(label_set).argmax()\n"
   ],
   "metadata": {
    "collapsed": false
   }
  },
  {
   "cell_type": "code",
   "execution_count": null,
   "outputs": [],
   "source": [],
   "metadata": {
    "collapsed": false
   }
  }
 ],
 "metadata": {
  "kernelspec": {
   "display_name": "Python 3",
   "language": "python",
   "name": "python3"
  },
  "language_info": {
   "codemirror_mode": {
    "name": "ipython",
    "version": 2
   },
   "file_extension": ".py",
   "mimetype": "text/x-python",
   "name": "python",
   "nbconvert_exporter": "python",
   "pygments_lexer": "ipython2",
   "version": "2.7.6"
  }
 },
 "nbformat": 4,
 "nbformat_minor": 0
}
