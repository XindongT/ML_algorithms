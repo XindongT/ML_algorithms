{
 "cells": [
  {
   "cell_type": "code",
   "execution_count": 25,
   "metadata": {
    "collapsed": true,
    "ExecuteTime": {
     "end_time": "2023-06-25T02:40:10.662596600Z",
     "start_time": "2023-06-25T02:40:10.659088200Z"
    }
   },
   "outputs": [],
   "source": [
    "import matplotlib.pyplot as plt\n",
    "import numpy as np"
   ]
  },
  {
   "cell_type": "code",
   "execution_count": 26,
   "outputs": [],
   "source": [
    "#data_gen\n",
    "mean1 = [10,10]\n",
    "mean2 = [5,5]\n",
    "\n",
    "cov1 = [[1,-0.3],[-0.3,1]]\n",
    "cov2 = [[1,-0.3],[-0.3,1]]\n",
    "\n",
    "x1 = np.random.multivariate_normal(mean1, cov1,size = 100)\n",
    "x2 = np.random.multivariate_normal(mean2, cov1,size = 100)\n",
    "\n",
    "x = np.vstack((x1,x2))\n",
    "lable = np.append(np.ones(100),np.zeros(100))"
   ],
   "metadata": {
    "collapsed": false,
    "ExecuteTime": {
     "end_time": "2023-06-25T02:40:26.718712300Z",
     "start_time": "2023-06-25T02:40:26.716202600Z"
    }
   }
  },
  {
   "cell_type": "code",
   "execution_count": 27,
   "outputs": [
    {
     "data": {
      "text/plain": "<Figure size 640x480 with 1 Axes>",
      "image/png": "[encoded data removed]"
     },
     "metadata": {},
     "output_type": "display_data"
    }
   ],
   "source": [
    "#plot data\n",
    "plt.scatter(x1[:,0],x1[:,1],label = 'x1')\n",
    "plt.scatter(x2[:,0],x2[:,1],label = 'x2')\n",
    "plt.legend()\n",
    "plt.show()"
   ],
   "metadata": {
    "collapsed": false,
    "ExecuteTime": {
     "end_time": "2023-06-25T02:40:27.084435300Z",
     "start_time": "2023-06-25T02:40:27.019164300Z"
    }
   }
  },
  {
   "cell_type": "markdown",
   "source": [
    "Generative models use Bayes rule to predict given y what x will be.\n",
    "$P(y|x) = \\frac{P(x|y)*P(y)}{P(x)}$\n",
    "where $P(x) = P(x|y=1)P(y=1) + P(x|y=0)P(y=0)$\n",
    "Here we generate two labels and each label has 100 samples, so $P(y=1) = P(y=0) = 0.5$\n",
    "In addition, we assume $P(x|y)$ follows a normal distribution. This judgement is based on our prior knowledge."
   ],
   "metadata": {
    "collapsed": false
   }
  },
  {
   "cell_type": "code",
   "execution_count": 28,
   "outputs": [],
   "source": [
    "#Find mean and variance of samples\n",
    "miu1 = np.mean(x1,axis=0)\n",
    "cov1 = np.cov(x1.T)\n",
    "\n",
    "miu2 = np.mean(x2,axis=0)\n",
    "cov2 = np.cov(x2.T)"
   ],
   "metadata": {
    "collapsed": false,
    "ExecuteTime": {
     "end_time": "2023-06-25T02:40:27.953474100Z",
     "start_time": "2023-06-25T02:40:27.948562Z"
    }
   }
  },
  {
   "cell_type": "code",
   "execution_count": 29,
   "outputs": [],
   "source": [
    "def Py_given_x(miu,cov,x):\n",
    "    return 1/(np.sqrt(2*np.pi) * np.linalg.det(cov)) * np.exp(-0.5 * np.matmul((x - miu),(x-miu).T) / np.linalg.det(cov))"
   ],
   "metadata": {
    "collapsed": false,
    "ExecuteTime": {
     "end_time": "2023-06-25T02:40:32.268106300Z",
     "start_time": "2023-06-25T02:40:32.266104Z"
    }
   }
  },
  {
   "cell_type": "code",
   "execution_count": 30,
   "outputs": [],
   "source": [
    "def model(features,labels,test_point):\n",
    "    test_point = np.array(test_point)\n",
    "    features = np.array(features)\n",
    "    labels = np.array(labels)\n",
    "\n",
    "\n",
    "    #need to select from different labels\n",
    "    x1 = features[:100]\n",
    "    x2 = features[100:]\n",
    "\n",
    "    Py1 = np.sum(labels)/len(labels)\n",
    "    Py2 = 1-Py1\n",
    "\n",
    "    miu1 = np.mean(x1,axis=0)\n",
    "    cov1 = np.cov(x1.T)\n",
    "\n",
    "    miu2 = np.mean(x2,axis=0)\n",
    "    cov2 = np.cov(x2.T)\n",
    "\n",
    "    P1 = Py_given_x(miu1,cov1,test_point)*Py1/(Py_given_x(miu1,cov1,test_point)*Py1 + Py_given_x(miu2,cov2,test_point)*Py2)\n",
    "    P2 = Py_given_x(miu2,cov2,test_point)*Py2/(Py_given_x(miu1,cov1,test_point)*Py1 + Py_given_x(miu2,cov2,test_point)*Py2)\n",
    "\n",
    "    print('The probability that the test point in label_1 is',P1)\n",
    "    print('The probability that the test point in label_0 is',P2)"
   ],
   "metadata": {
    "collapsed": false,
    "ExecuteTime": {
     "end_time": "2023-06-25T02:40:32.683856700Z",
     "start_time": "2023-06-25T02:40:32.681854500Z"
    }
   }
  },
  {
   "cell_type": "code",
   "execution_count": 35,
   "outputs": [
    {
     "name": "stdout",
     "output_type": "stream",
     "text": [
      "The probability that the test point in label_1 is 1.902578162150582e-06\n",
      "The probability that the test point in label_0 is 0.9999980974218379\n"
     ]
    }
   ],
   "source": [
    "model(x,lable,[6,7])"
   ],
   "metadata": {
    "collapsed": false,
    "ExecuteTime": {
     "end_time": "2023-06-25T02:41:17.062170500Z",
     "start_time": "2023-06-25T02:41:17.058662Z"
    }
   }
  },
  {
   "cell_type": "code",
   "execution_count": null,
   "outputs": [],
   "source": [],
   "metadata": {
    "collapsed": false
   }
  }
 ],
 "metadata": {
  "kernelspec": {
   "display_name": "Python 3",
   "language": "python",
   "name": "python3"
  },
  "language_info": {
   "codemirror_mode": {
    "name": "ipython",
    "version": 2
   },
   "file_extension": ".py",
   "mimetype": "text/x-python",
   "name": "python",
   "nbconvert_exporter": "python",
   "pygments_lexer": "ipython2",
   "version": "2.7.6"
  }
 },
 "nbformat": 4,
 "nbformat_minor": 0
}
